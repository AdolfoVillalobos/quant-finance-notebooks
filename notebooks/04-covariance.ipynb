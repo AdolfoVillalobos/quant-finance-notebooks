{
 "cells": [
  {
   "cell_type": "code",
   "execution_count": null,
   "metadata": {},
   "outputs": [],
   "source": []
  },
  {
   "cell_type": "markdown",
   "metadata": {},
   "source": [
    "# 1. Covariance and Correlation\n",
    "\n",
    "## 1.1. Covariance\n",
    "\n",
    "The Covariance is a measure of how much two random variables change together. It is calculated as the expected value of the product of the deviations of the variables from their means.\n",
    "\n",
    "$$\n",
    "\\text{Cov}(X, Y) = E[(X - E[X])(Y - E[Y])]\n",
    "$$\n",
    "\n"
   ]
  },
  {
   "cell_type": "code",
   "execution_count": 1,
   "metadata": {},
   "outputs": [
    {
     "name": "stdout",
     "output_type": "stream",
     "text": [
      "Expected value of X: 3.3\n"
     ]
    }
   ],
   "source": [
    "import statsmodels.api as sm\n",
    "import numpy as np\n",
    "# Dice Rolls\n",
    "\n",
    "X = [2, 3, 2, 1, 3, 5, 1, 1, 3, 1, 4, 5, 5, 2, 5, 6, 3, 5, 3, 6]  # Dice rolls\n",
    "\n",
    "expected_value_X = np.mean(X)\n",
    "\n",
    "print(f\"Expected value of X: {expected_value_X}\")"
   ]
  },
  {
   "cell_type": "code",
   "execution_count": 2,
   "metadata": {},
   "outputs": [
    {
     "name": "stdout",
     "output_type": "stream",
     "text": [
      "Expected value of X: 3.3\n",
      "Covariance of X: 2.81\n"
     ]
    }
   ],
   "source": [
    "d = sm.stats.DescrStatsW(X)\n",
    "\n",
    "print(f\"Expected value of X: {d.mean}\")\n",
    "print(f\"Covariance of X: {d.cov}\")\n"
   ]
  },
  {
   "cell_type": "markdown",
   "metadata": {},
   "source": [
    "## 1.2 Computing covariance\n",
    "\n",
    "$$\n",
    "\\text{Cov}(X, Y) = E[(X - E[X])(Y - E[Y])]\n",
    "$$\n",
    "\n",
    "Is equivalent to:\n",
    "\n",
    "$$\n",
    "\\text{Cov}(X, Y) = E[XY] - E[X]E[Y]\n",
    "$$\n",
    "\n",
    "\n",
    "\n",
    "This allows to estimate the covariance of two random variables by calculating the expected value of the product of the random variables minus the product of the expected values of the random variables."
   ]
  },
  {
   "cell_type": "code",
   "execution_count": 6,
   "metadata": {},
   "outputs": [
    {
     "name": "stdout",
     "output_type": "stream",
     "text": [
      "[[34.35023637  1.91418456]\n",
      " [ 1.91418456  0.18776061]]\n"
     ]
    },
    {
     "data": {
      "image/png": "[encoded data removed]",
      "text/plain": [
       "<Figure size 640x480 with 1 Axes>"
      ]
     },
     "metadata": {},
     "output_type": "display_data"
    }
   ],
   "source": [
    "X = np.linspace(-10, 10, 100)\n",
    "Y = np.random.random(100) + np.linspace(0, 1, 100)\n",
    "plt.plot(X, Y, 'o')\n",
    "\n",
    "C = np.cov(X, Y)\n",
    "print(C)"
   ]
  },
  {
   "cell_type": "code",
   "execution_count": 7,
   "metadata": {},
   "outputs": [
    {
     "name": "stdout",
     "output_type": "stream",
     "text": [
      "-1.0\n"
     ]
    }
   ],
   "source": [
    "# Negative Correlation\n",
    "from scipy import stats\n",
    "\n",
    "x = np.random.random(100)\n",
    "y = 1 - x\n",
    "correlation, p_value = stats.pearsonr(x, y)\n",
    "print(correlation)"
   ]
  },
  {
   "cell_type": "code",
   "execution_count": 8,
   "metadata": {},
   "outputs": [
    {
     "name": "stdout",
     "output_type": "stream",
     "text": [
      "0.015892452510925262\n",
      "0.9999999999999999\n"
     ]
    }
   ],
   "source": [
    "# Zero Correlation\n",
    "x = np.random.random(100)\n",
    "y = np.random.random(100)\n",
    "correlation, p_value = stats.pearsonr(x, y)\n",
    "print(correlation)\n",
    "\n",
    "# Positive Correlation\n",
    "x = np.random.random(100)\n",
    "y = x\n",
    "correlation, p_value = stats.pearsonr(x, y)\n",
    "print(correlation)"
   ]
  },
  {
   "cell_type": "markdown",
   "metadata": {},
   "source": [
    "## 1.3 Dimensionality Analysis\n",
    "\n",
    "In data, we often have more than two variables. We can use the covariance matrix to understand the relationships between multiple variables.\n",
    "\n"
   ]
  },
  {
   "cell_type": "code",
   "execution_count": 11,
   "metadata": {},
   "outputs": [],
   "source": [
    "heights = np.array([178.64530591, 173.06618977, 155.22558268, 186.8983648 ,\n",
    "       149.16650972, 164.3049925 , 156.8397536 , 166.07190208,\n",
    "       174.11183283, 155.54411733, 152.61490567, 182.89611452,\n",
    "       145.79498225, 169.50606044, 157.94949789, 170.43628341,\n",
    "       175.95694371, 178.09153374, 178.51960883, 173.56347301,\n",
    "       158.79606688, 168.593175  , 159.88907252, 174.0085056 ,\n",
    "       172.05981633, 175.79140631, 165.6368616 , 191.2270476 ,\n",
    "       179.92045118, 153.1153195 ])\n",
    "\n",
    "weights = np.array([ 88.39616195,  63.77670541,  82.1551606 , 102.81391498,\n",
    "        54.11862754,  73.19813772,  87.89767135,  77.42374335,\n",
    "        68.65163289,  81.00977302,  76.8384397 , 119.6155542 ,\n",
    "        92.78823634,  73.24696289,  72.12448243,  87.41055872,\n",
    "        88.22139197, 102.50923756,  83.48268745,  82.69144239,\n",
    "        72.76970268,  96.6186149 ,  81.97160878,  85.20213248,\n",
    "        95.62580765,  91.80510994,  67.09249674,  86.42500849,\n",
    "        83.76262709,  71.82791366])"
   ]
  },
  {
   "cell_type": "code",
   "execution_count": 12,
   "metadata": {},
   "outputs": [
    {
     "data": {
      "text/plain": [
       "np.float64(73.26405232380192)"
      ]
     },
     "execution_count": 12,
     "metadata": {},
     "output_type": "execute_result"
    }
   ],
   "source": [
    "np.cov(heights, weights)[0][1]\n"
   ]
  },
  {
   "cell_type": "markdown",
   "metadata": {},
   "source": [
    "Note that the covariance value is positive, which means that the variables are positively correlated.\n",
    "\n",
    "But we can't compare this value with the covariance of other variables because the covariance is not standardized.\n",
    "\n",
    "## 1.4 Standardizing Covariance\n",
    "\n",
    "To compare the covariance of different variables, we can standardize the covariance by dividing it by the standard deviation of the variables. This is the Correlation.\n",
    "\n",
    "$$\n",
    "\\text{Correlation}(X, Y) = \\frac{\\text{Cov}(X, Y)}{\\sigma_X \\sigma_Y}\n",
    "$$"
   ]
  },
  {
   "cell_type": "code",
   "execution_count": 15,
   "metadata": {},
   "outputs": [
    {
     "name": "stdout",
     "output_type": "stream",
     "text": [
      "[[1.         0.48062645]\n",
      " [0.48062645 1.        ]]\n",
      "[[0.9099315  0.49719978]\n",
      " [0.49719978 1.17608257]]\n"
     ]
    }
   ],
   "source": [
    "# Calculate the correlation\n",
    "\n",
    "corr = np.corrcoef(heights, weights)\n",
    "print(corr)\n",
    "\n",
    "\n",
    "corr = np.cov(heights, weights) / (np.std(heights) * np.std(weights))\n",
    "print(corr)"
   ]
  },
  {
   "cell_type": "markdown",
   "metadata": {},
   "source": []
  },
  {
   "cell_type": "markdown",
   "metadata": {},
   "source": [
    "The values returned by `np.corrcoef` and `np.cov` are different. This is because `np.corrcoef` returns the correlation matrix, while `np.cov` returns the covariance matrix."
   ]
  },
  {
   "cell_type": "code",
   "execution_count": null,
   "metadata": {},
   "outputs": [],
   "source": []
  }
 ],
 "metadata": {
  "kernelspec": {
   "display_name": ".venv",
   "language": "python",
   "name": "python3"
  },
  "language_info": {
   "codemirror_mode": {
    "name": "ipython",
    "version": 3
   },
   "file_extension": ".py",
   "mimetype": "text/x-python",
   "name": "python",
   "nbconvert_exporter": "python",
   "pygments_lexer": "ipython3",
   "version": "3.12.3"
  }
 },
 "nbformat": 4,
 "nbformat_minor": 2
}
